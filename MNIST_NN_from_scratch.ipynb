{
  "cells": [
    {
      "cell_type": "markdown",
      "metadata": {
        "id": "ckQRcCjCOmIj"
      },
      "source": [
        " Given the complete **MNIST dataset** (can be found in \"sample_data\" of Google Colab).\n",
        "\n",
        " Work with your team to find the most suitable architecture\n",
        "of the neural network.\n",
        "\n",
        " **Note**: the performance of each model\n",
        "should be evaluated on the test set and the test set must not be used during the training process.\n"
      ]
    },
    {
      "cell_type": "code",
      "execution_count": 1,
      "metadata": {
        "id": "uJUvTvv8IN3T"
      },
      "outputs": [],
      "source": [
        "import pandas as pd\n",
        "import numpy as np\n",
        "import matplotlib.pyplot as plt\n",
        "from keras.utils import to_categorical"
      ]
    },
    {
      "cell_type": "code",
      "execution_count": 2,
      "metadata": {
        "id": "brFV__h6IVO5"
      },
      "outputs": [],
      "source": [
        "df_train = pd.read_csv('mnist_train_small.csv', header=None)"
      ]
    },
    {
      "cell_type": "code",
      "execution_count": 3,
      "metadata": {
        "colab": {
          "base_uri": "https://localhost:8080/",
          "height": 235
        },
        "id": "6Q0Urc6Kl3n6",
        "outputId": "b944d6c7-f4a1-40e9-d586-c9d42def2311"
      },
      "outputs": [
        {
          "data": {
            "text/html": [
              "<div>\n",
              "<style scoped>\n",
              "    .dataframe tbody tr th:only-of-type {\n",
              "        vertical-align: middle;\n",
              "    }\n",
              "\n",
              "    .dataframe tbody tr th {\n",
              "        vertical-align: top;\n",
              "    }\n",
              "\n",
              "    .dataframe thead th {\n",
              "        text-align: right;\n",
              "    }\n",
              "</style>\n",
              "<table border=\"1\" class=\"dataframe\">\n",
              "  <thead>\n",
              "    <tr style=\"text-align: right;\">\n",
              "      <th></th>\n",
              "      <th>0</th>\n",
              "      <th>1</th>\n",
              "      <th>2</th>\n",
              "      <th>3</th>\n",
              "      <th>4</th>\n",
              "      <th>5</th>\n",
              "      <th>6</th>\n",
              "      <th>7</th>\n",
              "      <th>8</th>\n",
              "      <th>9</th>\n",
              "      <th>...</th>\n",
              "      <th>775</th>\n",
              "      <th>776</th>\n",
              "      <th>777</th>\n",
              "      <th>778</th>\n",
              "      <th>779</th>\n",
              "      <th>780</th>\n",
              "      <th>781</th>\n",
              "      <th>782</th>\n",
              "      <th>783</th>\n",
              "      <th>784</th>\n",
              "    </tr>\n",
              "  </thead>\n",
              "  <tbody>\n",
              "    <tr>\n",
              "      <th>0</th>\n",
              "      <td>6</td>\n",
              "      <td>0</td>\n",
              "      <td>0</td>\n",
              "      <td>0</td>\n",
              "      <td>0</td>\n",
              "      <td>0</td>\n",
              "      <td>0</td>\n",
              "      <td>0</td>\n",
              "      <td>0</td>\n",
              "      <td>0</td>\n",
              "      <td>...</td>\n",
              "      <td>0</td>\n",
              "      <td>0</td>\n",
              "      <td>0</td>\n",
              "      <td>0</td>\n",
              "      <td>0</td>\n",
              "      <td>0</td>\n",
              "      <td>0</td>\n",
              "      <td>0</td>\n",
              "      <td>0</td>\n",
              "      <td>0</td>\n",
              "    </tr>\n",
              "    <tr>\n",
              "      <th>1</th>\n",
              "      <td>5</td>\n",
              "      <td>0</td>\n",
              "      <td>0</td>\n",
              "      <td>0</td>\n",
              "      <td>0</td>\n",
              "      <td>0</td>\n",
              "      <td>0</td>\n",
              "      <td>0</td>\n",
              "      <td>0</td>\n",
              "      <td>0</td>\n",
              "      <td>...</td>\n",
              "      <td>0</td>\n",
              "      <td>0</td>\n",
              "      <td>0</td>\n",
              "      <td>0</td>\n",
              "      <td>0</td>\n",
              "      <td>0</td>\n",
              "      <td>0</td>\n",
              "      <td>0</td>\n",
              "      <td>0</td>\n",
              "      <td>0</td>\n",
              "    </tr>\n",
              "    <tr>\n",
              "      <th>2</th>\n",
              "      <td>7</td>\n",
              "      <td>0</td>\n",
              "      <td>0</td>\n",
              "      <td>0</td>\n",
              "      <td>0</td>\n",
              "      <td>0</td>\n",
              "      <td>0</td>\n",
              "      <td>0</td>\n",
              "      <td>0</td>\n",
              "      <td>0</td>\n",
              "      <td>...</td>\n",
              "      <td>0</td>\n",
              "      <td>0</td>\n",
              "      <td>0</td>\n",
              "      <td>0</td>\n",
              "      <td>0</td>\n",
              "      <td>0</td>\n",
              "      <td>0</td>\n",
              "      <td>0</td>\n",
              "      <td>0</td>\n",
              "      <td>0</td>\n",
              "    </tr>\n",
              "    <tr>\n",
              "      <th>3</th>\n",
              "      <td>9</td>\n",
              "      <td>0</td>\n",
              "      <td>0</td>\n",
              "      <td>0</td>\n",
              "      <td>0</td>\n",
              "      <td>0</td>\n",
              "      <td>0</td>\n",
              "      <td>0</td>\n",
              "      <td>0</td>\n",
              "      <td>0</td>\n",
              "      <td>...</td>\n",
              "      <td>0</td>\n",
              "      <td>0</td>\n",
              "      <td>0</td>\n",
              "      <td>0</td>\n",
              "      <td>0</td>\n",
              "      <td>0</td>\n",
              "      <td>0</td>\n",
              "      <td>0</td>\n",
              "      <td>0</td>\n",
              "      <td>0</td>\n",
              "    </tr>\n",
              "    <tr>\n",
              "      <th>4</th>\n",
              "      <td>5</td>\n",
              "      <td>0</td>\n",
              "      <td>0</td>\n",
              "      <td>0</td>\n",
              "      <td>0</td>\n",
              "      <td>0</td>\n",
              "      <td>0</td>\n",
              "      <td>0</td>\n",
              "      <td>0</td>\n",
              "      <td>0</td>\n",
              "      <td>...</td>\n",
              "      <td>0</td>\n",
              "      <td>0</td>\n",
              "      <td>0</td>\n",
              "      <td>0</td>\n",
              "      <td>0</td>\n",
              "      <td>0</td>\n",
              "      <td>0</td>\n",
              "      <td>0</td>\n",
              "      <td>0</td>\n",
              "      <td>0</td>\n",
              "    </tr>\n",
              "  </tbody>\n",
              "</table>\n",
              "<p>5 rows × 785 columns</p>\n",
              "</div>"
            ],
            "text/plain": [
              "   0    1    2    3    4    5    6    7    8    9    ...  775  776  777  778  \\\n",
              "0    6    0    0    0    0    0    0    0    0    0  ...    0    0    0    0   \n",
              "1    5    0    0    0    0    0    0    0    0    0  ...    0    0    0    0   \n",
              "2    7    0    0    0    0    0    0    0    0    0  ...    0    0    0    0   \n",
              "3    9    0    0    0    0    0    0    0    0    0  ...    0    0    0    0   \n",
              "4    5    0    0    0    0    0    0    0    0    0  ...    0    0    0    0   \n",
              "\n",
              "   779  780  781  782  783  784  \n",
              "0    0    0    0    0    0    0  \n",
              "1    0    0    0    0    0    0  \n",
              "2    0    0    0    0    0    0  \n",
              "3    0    0    0    0    0    0  \n",
              "4    0    0    0    0    0    0  \n",
              "\n",
              "[5 rows x 785 columns]"
            ]
          },
          "execution_count": 3,
          "metadata": {},
          "output_type": "execute_result"
        }
      ],
      "source": [
        "df_train.head()"
      ]
    },
    {
      "cell_type": "code",
      "execution_count": 4,
      "metadata": {
        "id": "x7rxqGrQId95"
      },
      "outputs": [],
      "source": [
        "y = df_train.iloc[:,0].to_numpy()\n",
        "X = df_train.iloc[:, 1:].to_numpy().T"
      ]
    },
    {
      "cell_type": "code",
      "execution_count": 5,
      "metadata": {
        "id": "D5bdq_ROlE1n"
      },
      "outputs": [],
      "source": [
        "y = to_categorical(y)\n",
        "y = y.T"
      ]
    },
    {
      "cell_type": "code",
      "execution_count": 6,
      "metadata": {},
      "outputs": [
        {
          "data": {
            "text/plain": [
              "(10, 20000)"
            ]
          },
          "execution_count": 6,
          "metadata": {},
          "output_type": "execute_result"
        }
      ],
      "source": [
        "y.shape"
      ]
    },
    {
      "cell_type": "code",
      "execution_count": 7,
      "metadata": {
        "colab": {
          "base_uri": "https://localhost:8080/"
        },
        "id": "Nzc4E_-bnAjD",
        "outputId": "1201a02c-bc36-4d8f-e580-678e3238de83"
      },
      "outputs": [
        {
          "name": "stdout",
          "output_type": "stream",
          "text": [
            "Shape of X = (784, 20000)\n",
            "Shape of y = (10, 20000)\n"
          ]
        }
      ],
      "source": [
        "print(f'Shape of X = {X.shape}')\n",
        "print(f'Shape of y = {y.shape}')"
      ]
    },
    {
      "cell_type": "code",
      "execution_count": 8,
      "metadata": {
        "colab": {
          "base_uri": "https://localhost:8080/",
          "height": 430
        },
        "id": "jDW6PD0uKmfc",
        "outputId": "6216e6ae-705f-4998-9eb3-728e14fce7a0"
      },
      "outputs": [
        {
          "data": {
            "image/png": "[encoded data removed]",
            "text/plain": [
              "<Figure size 640x480 with 1 Axes>"
            ]
          },
          "metadata": {},
          "output_type": "display_data"
        }
      ],
      "source": [
        "import random\n",
        "\n",
        "idx = random.randrange(0, X.shape[0])\n",
        "plt.imshow(X[:, idx].reshape(28,28), cmap = 'gray')\n",
        "plt.show()"
      ]
    },
    {
      "cell_type": "markdown",
      "metadata": {},
      "source": [
        "![SVG Image](nn.svg)"
      ]
    },
    {
      "cell_type": "markdown",
      "metadata": {
        "id": "KxaMXTh-N6Ue"
      },
      "source": [
        "## Some Functions"
      ]
    },
    {
      "cell_type": "code",
      "execution_count": 9,
      "metadata": {
        "id": "1CvuNI7UN4Tm"
      },
      "outputs": [],
      "source": [
        "def relu(x):\n",
        "    return np.maximum(x, 0)\n",
        "\n",
        "def softmax(x):\n",
        "    exps = np.exp(x - np.max(x, axis=0, keepdims=True))\n",
        "    return exps / np.sum(exps, axis=0, keepdims=True)\n",
        "\n",
        "def derivative_relu(x):\n",
        "    return np.array(x > 0, dtype=np.float32)"
      ]
    },
    {
      "cell_type": "markdown",
      "metadata": {
        "id": "yNI16v-rN9Nt"
      },
      "source": [
        "## Step 1 : Initialize Parameters"
      ]
    },
    {
      "cell_type": "markdown",
      "metadata": {},
      "source": [
        "n_x : Number of neurons in Input Layer\n",
        "\n",
        "n_h : Number of neurons in Hidden Layer\n",
        "\n",
        "n_y : Number of neurons in Output Layer"
      ]
    },
    {
      "cell_type": "code",
      "execution_count": 10,
      "metadata": {
        "id": "9jnsLiGdN5ys"
      },
      "outputs": [],
      "source": [
        "def init_param(n_x, n_h, n_y):\n",
        "    w1 = np.random.randn(n_h, n_x) * 0.01\n",
        "    b1 = np.zeros((n_h, 1))\n",
        "\n",
        "    w2 = np.random.randn(n_y, n_h) * 0.01\n",
        "    b2 = np.zeros((n_y, 1))\n",
        "\n",
        "    return w1, b1, w2, b2"
      ]
    },
    {
      "cell_type": "markdown",
      "metadata": {
        "id": "rjd4ldi_OE2W"
      },
      "source": [
        "# Step 2 : Forward Propagation"
      ]
    },
    {
      "cell_type": "markdown",
      "metadata": {},
      "source": [
        "$Z^{[1]} = W^{[1]} \\cdot X + b^{[1]}$\n",
        "\n",
        "$a^{[1]} = ReLU(Z^{[1]})$\n",
        "\n",
        "$Z^{[2]} = W^{[2]} \\cdot X + b^{[2]}$\n",
        "\n",
        "$a^{[2]} = Softmax(Z^{[2]})$"
      ]
    },
    {
      "cell_type": "code",
      "execution_count": 11,
      "metadata": {
        "id": "bDxT41OjlHkG"
      },
      "outputs": [],
      "source": [
        "def forward_prop(x, w1, b1, w2, b2):\n",
        "    z1 = np.dot(w1, x) + b1\n",
        "    a1 = relu(z1)\n",
        "\n",
        "    z2 = np.dot(w2, a1) + b2\n",
        "    a2 = softmax(z2)\n",
        "\n",
        "    return z1, a1, z2, a2"
      ]
    },
    {
      "cell_type": "markdown",
      "metadata": {
        "id": "Jgu0d--LTWK6"
      },
      "source": [
        "# Cost Function\n",
        "\n",
        "$cost = - \\frac{1}{m} [ \\sum\\limits_{i=1}^m \\sum\\limits_{k=1}^K y_k^{(i)}\\log(h(x^{(i)}))_k + (1 - y_k^{(i)})\\log(1 - h(x_{(i)}))_k)]$ "
      ]
    },
    {
      "cell_type": "code",
      "execution_count": 12,
      "metadata": {
        "id": "Hd-ijqKumPOr"
      },
      "outputs": [],
      "source": [
        "def cost_func(a2, y):\n",
        "  m = y.shape[1]\n",
        "  cost = -(1/m) * np.sum(y * np.log(a2) - (1 - y)*np.log(1 - a2))  \n",
        "  return cost"
      ]
    },
    {
      "cell_type": "markdown",
      "metadata": {
        "id": "WXL_47anTOnz"
      },
      "source": [
        "# Step 3 : Backward Propagation\n",
        "\n",
        "$dZ_2 = ( A_2 - Y )$\n",
        "\n",
        "$ dW_2 = \\frac{1}{m}. dZ_2 . A_1^T$\n",
        "\n",
        "$ dB_2 = \\frac{1}{m}.sum(dZ_2, 1)$\n",
        "\n",
        "$dZ_1 = W_2^T . dZ_2 * f_1^|(Z_1) $\n",
        "\n",
        "$dW_1 = \\frac{1}{m}.dZ_1.X^T$\n",
        "\n",
        "$dB_1 = \\frac{1}{m}.sum(dZ_1, 1)$\n",
        "\n"
      ]
    },
    {
      "cell_type": "code",
      "execution_count": 13,
      "metadata": {
        "id": "EyBMedGFm1fJ"
      },
      "outputs": [],
      "source": [
        "def backward_prop(x, y, w1, b1, w2, b2, z1, a1, z2, a2):\n",
        "    m = x.shape[1]\n",
        "\n",
        "    dz2 = a2 - y\n",
        "    dw2 = (1/m) * np.dot(dz2, a1.T)\n",
        "    db2 = (1/m) * np.sum(dz2, axis=1, keepdims=True)\n",
        "\n",
        "    dz1 = np.dot(w2.T, dz2) * derivative_relu(z1)\n",
        "    dw1 = (1/m) * np.dot(dz1, x.T)\n",
        "    db1 = (1/m) * np.sum(dz1, axis=1, keepdims=True)\n",
        "\n",
        "    return dw1, db1, dw2, db2"
      ]
    },
    {
      "cell_type": "markdown",
      "metadata": {},
      "source": [
        "# Step 4 : Update Parameters\n",
        "\n",
        "$ W_1 = W_1 -  lr * \\frac{\\partial Cost }{\\partial W_1}$ \n",
        "\n",
        "$ B_1 = B_1 -  lr * \\frac{\\partial Cost }{\\partial B_1}$ \n",
        "\n",
        "$ W_2 = W_2 -  lr * \\frac{\\partial Cost }{\\partial W_2}$ \n",
        "\n",
        "$ B_2 = B_2 -  lr * \\frac{\\partial Cost }{\\partial B_2}$ "
      ]
    },
    {
      "cell_type": "code",
      "execution_count": 14,
      "metadata": {
        "id": "Ps-Bpdtknn8r"
      },
      "outputs": [],
      "source": [
        "def update_param(w1, b1, w2, b2, dw1, db1, dw2, db2, lr):\n",
        "    \n",
        "    w1 = w1 - lr * dw1\n",
        "    b1 = b1 - lr * db1\n",
        "    w2 = w2 - lr * dw2\n",
        "    b2 = b2 - lr * db2\n",
        "\n",
        "    return w1, b1, w2, b2"
      ]
    },
    {
      "cell_type": "markdown",
      "metadata": {
        "id": "ewjWxXoLTZVx"
      },
      "source": [
        "# Step 5 : Training"
      ]
    },
    {
      "cell_type": "code",
      "execution_count": 15,
      "metadata": {},
      "outputs": [],
      "source": [
        "X = X/255"
      ]
    },
    {
      "cell_type": "code",
      "execution_count": 16,
      "metadata": {},
      "outputs": [
        {
          "name": "stdout",
          "output_type": "stream",
          "text": [
            "After 0 iterations, cost : 1.35433860103041\n",
            "After 100 iterations, cost : 0.9153447519789296\n",
            "After 200 iterations, cost : 0.22322281384516038\n",
            "After 300 iterations, cost : 0.15064704288296416\n",
            "After 400 iterations, cost : 0.12973582747704476\n",
            "After 500 iterations, cost : 0.11934572880669735\n",
            "After 600 iterations, cost : 0.11284515952676241\n",
            "After 700 iterations, cost : 0.10825537185720646\n",
            "After 800 iterations, cost : 0.10465670151654666\n",
            "After 900 iterations, cost : 0.10164924205230659\n"
          ]
        }
      ],
      "source": [
        "n_x, m = X.shape\n",
        "n_y = y.shape[0]\n",
        "n_h = 10\n",
        "lr = 0.1\n",
        "\n",
        "cost_list = []\n",
        "w1, b1, w2, b2 = init_param(n_x, n_h, n_y)\n",
        "\n",
        "for i in range(1000):\n",
        "    z1, a1, z2, a2 = forward_prop(X, w1, b1, w2, b2)\n",
        "\n",
        "    cost = cost_func(a2, y)\n",
        "\n",
        "    dw1, db1, dw2, db2 = backward_prop(X, y, w1, b1, w2, b2, z1, a1, z2, a2)\n",
        "\n",
        "    w1, b1, w2, b2 = update_param(w1, b1, w2, b2, dw1, db1, dw2, db2, lr)\n",
        "\n",
        "    cost_list.append(cost)\n",
        "\n",
        "    if i % 100 == 0:\n",
        "        print(f'After {i} iterations, cost : {cost}')"
      ]
    },
    {
      "cell_type": "code",
      "execution_count": 17,
      "metadata": {},
      "outputs": [
        {
          "data": {
            "image/png": "[encoded data removed]",
            "text/plain": [
              "<Figure size 640x480 with 1 Axes>"
            ]
          },
          "metadata": {},
          "output_type": "display_data"
        }
      ],
      "source": [
        "plt.style.use('ggplot')\n",
        "\n",
        "plt.plot(range(i), cost_list[:-1])\n",
        "plt.xlabel('Number of Iterations')\n",
        "plt.ylabel('Cost Value')\n",
        "plt.show()"
      ]
    },
    {
      "cell_type": "markdown",
      "metadata": {},
      "source": [
        "## Model Evaluation"
      ]
    },
    {
      "cell_type": "code",
      "execution_count": 18,
      "metadata": {},
      "outputs": [],
      "source": [
        "df_test = pd.read_csv('mnist_test.csv')"
      ]
    },
    {
      "cell_type": "code",
      "execution_count": 19,
      "metadata": {},
      "outputs": [],
      "source": [
        "X_test = df_test.iloc[:, 1:].to_numpy().T\n",
        "y_test = df_test.iloc[:, 0].to_numpy()"
      ]
    },
    {
      "cell_type": "code",
      "execution_count": 20,
      "metadata": {},
      "outputs": [],
      "source": [
        "y_test = to_categorical(y_test)\n",
        "y_test = y_test.T"
      ]
    },
    {
      "cell_type": "code",
      "execution_count": 21,
      "metadata": {},
      "outputs": [],
      "source": [
        "X_test = X_test/255"
      ]
    },
    {
      "cell_type": "code",
      "execution_count": 22,
      "metadata": {},
      "outputs": [],
      "source": [
        "def predict(x, w1, b1, w2, b2):\n",
        "    _, _, _, a2 = forward_prop(x, w1, b1, w2, b2)\n",
        "    predictions = np.argmax(a2, axis=0)\n",
        "    return predictions\n",
        "\n",
        "def accuracy(predictions, true_labels):\n",
        "    correct = np.sum(predictions == true_labels)\n",
        "    total = true_labels.shape[0]\n",
        "    accuracy = correct / total\n",
        "    return accuracy"
      ]
    },
    {
      "cell_type": "code",
      "execution_count": 23,
      "metadata": {},
      "outputs": [
        {
          "name": "stdout",
          "output_type": "stream",
          "text": [
            "Accuracy : 90.44 %\n"
          ]
        }
      ],
      "source": [
        "predictions = predict(X_test, w1, b1, w2, b2)\n",
        "true_labels = np.argmax(y_test, axis=0)\n",
        "\n",
        "acc = accuracy(predictions, true_labels)\n",
        "print(f'Accuracy : {acc * 100:.2f} %')"
      ]
    },
    {
      "cell_type": "code",
      "execution_count": 24,
      "metadata": {},
      "outputs": [
        {
          "data": {
            "image/png": "[encoded data removed]",
            "text/plain": [
              "<Figure size 640x480 with 1 Axes>"
            ]
          },
          "metadata": {},
          "output_type": "display_data"
        }
      ],
      "source": [
        "index = 9  # Index of the image to predict\n",
        "test_image = X_test[:, index]\n",
        "test_label = np.argmax(y_test[:, index])  # Get the actual label\n",
        "\n",
        "# Predict the label for the test image\n",
        "_, _, _, a2 = forward_prop(test_image.reshape((-1, 1)), w1, b1, w2, b2)\n",
        "predicted_label = np.argmax(a2)  # Get the index of the maximum value\n",
        "\n",
        "# Reshape the image back to its original shape for plotting\n",
        "test_image = test_image.reshape((28, 28))\n",
        "\n",
        "# Display the image\n",
        "plt.imshow(test_image, cmap='gray')\n",
        "plt.title(f\"Predicted: {predicted_label}, Actual: {test_label}\")\n",
        "plt.axis('off')\n",
        "plt.show()"
      ]
    },
    {
      "cell_type": "markdown",
      "metadata": {},
      "source": [
        "# Other Architecture"
      ]
    },
    {
      "cell_type": "code",
      "execution_count": 25,
      "metadata": {},
      "outputs": [
        {
          "name": "stdout",
          "output_type": "stream",
          "text": [
            "After 0 iterations, cost : 1.3542301472269302\n",
            "After 500 iterations, cost : 0.11222823018530831\n"
          ]
        }
      ],
      "source": [
        "n_x, m = X.shape\n",
        "n_y = y.shape[0]\n",
        "n_h = 15\n",
        "lr = 0.1\n",
        "\n",
        "cost_list = []\n",
        "w1, b1, w2, b2 = init_param(n_x, n_h, n_y)\n",
        "\n",
        "for i in range(1000):\n",
        "    z1, a1, z2, a2 = forward_prop(X, w1, b1, w2, b2)\n",
        "\n",
        "    cost = cost_func(a2, y)\n",
        "\n",
        "    dw1, db1, dw2, db2 = backward_prop(X, y, w1, b1, w2, b2, z1, a1, z2, a2)\n",
        "\n",
        "    w1, b1, w2, b2 = update_param(w1, b1, w2, b2, dw1, db1, dw2, db2, lr)\n",
        "\n",
        "    cost_list.append(cost)\n",
        "\n",
        "    if i % 500 == 0:\n",
        "        print(f'After {i} iterations, cost : {cost}')"
      ]
    },
    {
      "cell_type": "code",
      "execution_count": 26,
      "metadata": {},
      "outputs": [
        {
          "name": "stdout",
          "output_type": "stream",
          "text": [
            "Accuracy : 91.19 %\n"
          ]
        }
      ],
      "source": [
        "predictions = predict(X_test, w1, b1, w2, b2)\n",
        "true_labels = np.argmax(y_test, axis=0)\n",
        "\n",
        "acc = accuracy(predictions, true_labels)\n",
        "print(f'Accuracy : {acc * 100:.2f} %')"
      ]
    },
    {
      "cell_type": "markdown",
      "metadata": {},
      "source": [
        "1st Architecture : 1 hidden layer with 10 nodes, Accuracy = 90.44 %\n",
        "\n",
        "2nd Architecture : 1 hidden layer with 15 nodes, Accuracy = 91.19 %"
      ]
    }
  ],
  "metadata": {
    "colab": {
      "provenance": []
    },
    "kernelspec": {
      "display_name": "Python 3",
      "name": "python3"
    },
    "language_info": {
      "codemirror_mode": {
        "name": "ipython",
        "version": 3
      },
      "file_extension": ".py",
      "mimetype": "text/x-python",
      "name": "python",
      "nbconvert_exporter": "python",
      "pygments_lexer": "ipython3",
      "version": "3.12.0"
    }
  },
  "nbformat": 4,
  "nbformat_minor": 0
}
